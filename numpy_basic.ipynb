{
  "nbformat": 4,
  "nbformat_minor": 0,
  "metadata": {
    "colab": {
      "name": "numpy_basic.ipynb",
      "provenance": [],
      "collapsed_sections": [],
      "authorship_tag": "ABX9TyPPqH+kAzhDagR3bAeq5Eup",
      "include_colab_link": true
    },
    "kernelspec": {
      "name": "python3",
      "display_name": "Python 3"
    },
    "language_info": {
      "name": "python"
    }
  },
  "cells": [
    {
      "cell_type": "markdown",
      "metadata": {
        "id": "view-in-github",
        "colab_type": "text"
      },
      "source": [
        "<a href=\"https://colab.research.google.com/github/prgmr99/deep_learning-pytorch-/blob/main/numpy_basic.ipynb\" target=\"_parent\"><img src=\"https://colab.research.google.com/assets/colab-badge.svg\" alt=\"Open In Colab\"/></a>"
      ]
    },
    {
      "cell_type": "markdown",
      "source": [
        "# ndarray 개념"
      ],
      "metadata": {
        "id": "3hd2yMRQCEKr"
      }
    },
    {
      "cell_type": "markdown",
      "source": [
        "Numpy는 과학 컴퓨팅을 위한 기본 패키지.\n",
        "\n",
        "다차원 배열 객체, 이로부터 유도한 마스크된 배열 및 행렬 등과 같은 객체, 논리, 배열 형태 조작, 정렬, 선택, I/O를 비롯한 배열에 대한 빠른 작업을 위한 다양한 루틴을 제공한다.\n",
        "\n",
        "이외에도 이산 푸리에 변환, 기본 선형 대수학, 기본 통계 연산, 무작위 시뮬레이션 등등 다양한 기능을 가지고 있다."
      ],
      "metadata": {
        "id": "O8lxkoOvyC5t"
      }
    },
    {
      "cell_type": "code",
      "execution_count": null,
      "metadata": {
        "id": "yp5QCD5JyBE6"
      },
      "outputs": [],
      "source": [
        "# Numpy와 패키지의 핵심은 ndarray 객체이다.\n",
        "# ndarray는 fixed-size homogeneous multidimensional array 정도로 이해할 수 있다.\n",
        "# 기본적으로 vectorization 과 broadcasting을 지원\n"
      ]
    },
    {
      "cell_type": "markdown",
      "source": [
        "Python에서 제공하는 list, tuple 등의 시퀀스 자료형은 서로 다른 데이터타입을 저장할 수 있고\n",
        "(heterogeneous sequence), 크기가 자동으로 커질 수 있다.\n",
        "\n",
        "반면에 ndarray는 성능향상을 위해 같은 데이터타입만을 요소로 가질 수 있고, 크기 역시 고정되어 있다.\n",
        "만약 크기를 변경하면 새로 메모리에 할당되고 이전 값은 삭제된다."
      ],
      "metadata": {
        "id": "2Ui-f7Fhz8oj"
      }
    },
    {
      "cell_type": "code",
      "source": [
        "# ndarray는 list나 tuple 같은 시퀀스 자료형으로부터 생성한다.\n",
        "import numpy as np\n",
        "x=np.array((0.1,0.2,0.3))\n",
        "x"
      ],
      "metadata": {
        "colab": {
          "base_uri": "https://localhost:8080/"
        },
        "id": "c0rrlBK6z7ef",
        "outputId": "0f7f7d2d-4871-43b5-fe18-0956a62aef07"
      },
      "execution_count": null,
      "outputs": [
        {
          "output_type": "execute_result",
          "data": {
            "text/plain": [
              "(3,)"
            ]
          },
          "metadata": {},
          "execution_count": 7
        }
      ]
    },
    {
      "cell_type": "code",
      "source": [
        "x.shape"
      ],
      "metadata": {
        "colab": {
          "base_uri": "https://localhost:8080/"
        },
        "id": "pY6MuT7T0hwM",
        "outputId": "6073a3e6-b1bf-491b-b5ed-8dd816545cd2"
      },
      "execution_count": null,
      "outputs": [
        {
          "output_type": "execute_result",
          "data": {
            "text/plain": [
              "(3,)"
            ]
          },
          "metadata": {},
          "execution_count": 8
        }
      ]
    },
    {
      "cell_type": "code",
      "source": [
        "x.dtype"
      ],
      "metadata": {
        "colab": {
          "base_uri": "https://localhost:8080/"
        },
        "id": "JwJrZZ7Q0uhg",
        "outputId": "b8c7c893-0070-4082-b7a1-4b4d9e85b78c"
      },
      "execution_count": null,
      "outputs": [
        {
          "output_type": "execute_result",
          "data": {
            "text/plain": [
              "dtype('float64')"
            ]
          },
          "metadata": {},
          "execution_count": 9
        }
      ]
    },
    {
      "cell_type": "code",
      "source": [
        "y=np.array(((1,2,3),(4,5,6)))\n",
        "y"
      ],
      "metadata": {
        "colab": {
          "base_uri": "https://localhost:8080/"
        },
        "id": "3Xb66jXY1DQx",
        "outputId": "e7209c71-ff2e-4ea6-f42a-6486e3127b96"
      },
      "execution_count": null,
      "outputs": [
        {
          "output_type": "execute_result",
          "data": {
            "text/plain": [
              "array([[1, 2, 3],\n",
              "       [4, 5, 6]])"
            ]
          },
          "metadata": {},
          "execution_count": 10
        }
      ]
    },
    {
      "cell_type": "code",
      "source": [
        "y.dtype"
      ],
      "metadata": {
        "colab": {
          "base_uri": "https://localhost:8080/"
        },
        "id": "UjJo1cyz1JO_",
        "outputId": "5524284b-ec5d-4c3d-ad96-9c647d38f4a9"
      },
      "execution_count": null,
      "outputs": [
        {
          "output_type": "execute_result",
          "data": {
            "text/plain": [
              "dtype('int64')"
            ]
          },
          "metadata": {},
          "execution_count": 11
        }
      ]
    },
    {
      "cell_type": "code",
      "source": [
        "y.shape"
      ],
      "metadata": {
        "colab": {
          "base_uri": "https://localhost:8080/"
        },
        "id": "qIITh51A1LW6",
        "outputId": "6ca64616-75d7-4330-c578-702b5ddc4781"
      },
      "execution_count": null,
      "outputs": [
        {
          "output_type": "execute_result",
          "data": {
            "text/plain": [
              "(2, 3)"
            ]
          },
          "metadata": {},
          "execution_count": 12
        }
      ]
    },
    {
      "cell_type": "code",
      "source": [
        "# x는 float64를 요소 타입으로 갖는 크기 3의 1차원 배열\n",
        "# y는 int32을 요소 타입으로 하는 (2,3) 크기의 2차원 배열\n",
        "# 요소 타입을 dtype 멤버에서 확인할 수 있으며, 차원 shape에서 확인할 수 있다.\n",
        "# 1차원 배열의 shape은 (m,) 형태이고, 2차원 배열은 (m,n) 형태이다. 3차원은 (p,q,r)등과 같다.\n",
        "# 생성시 입력된 값을 통해 dtype을 추정하는데, 강제로 지정하는 것은 다음과 같다.\n",
        "z=np.array([1,2,3], dtype='float64')"
      ],
      "metadata": {
        "id": "fHiu3GxI1MG_"
      },
      "execution_count": null,
      "outputs": []
    },
    {
      "cell_type": "markdown",
      "source": [
        "narray의 중요 속성\n",
        "\n",
        "*   shape: 배열의 형태\n",
        "*   dtype: 요소의 데이터 타입, int32, float32 등등\n",
        "*   ndim: 차원수. x.ndim=1, y.ndim=2 등이며 len(x.shape)와 동일\n",
        "*   size: 요소의 개수. shape의 모든 값의 곲. x.size=3, y.size=6 등\n",
        "*   itemsize: 요소 데이터 타입의 크기(byte 단위), x.itemsize=8 등\n",
        "*   data: 실제 데이터, 직접 사용자가 접근할 필요는 없다.\n",
        "\n",
        "\n",
        "\n",
        "\n",
        "\n"
      ],
      "metadata": {
        "id": "ld0E86S32TfM"
      }
    },
    {
      "cell_type": "markdown",
      "source": [
        "**초기화 관련 편의함수**\n",
        "\n",
        "zeros()는 모두 0으로 초기화한다.\n",
        "\n",
        "ones()는 모두 1로 초기화한다.\n",
        "\n",
        "empty()는 값을 초기화하지 않고(메모리 상태에 따라 다른 값이 들어감) 생성한다.\n",
        "\n",
        "인자로 생성할 배열의 차원을 list, tuple로 지정한다.\n",
        "\n",
        "dtype은 디폴트가 float64이고, 변경을 원하면 지정해야한다."
      ],
      "metadata": {
        "id": "G4JuZldR3R1R"
      }
    },
    {
      "cell_type": "code",
      "source": [
        "Y=np.zeros((3,3))\n",
        "Y"
      ],
      "metadata": {
        "colab": {
          "base_uri": "https://localhost:8080/"
        },
        "id": "wlAPQQwv34lY",
        "outputId": "20d6ee50-6be6-4d41-da6f-fb11aa0052db"
      },
      "execution_count": null,
      "outputs": [
        {
          "output_type": "execute_result",
          "data": {
            "text/plain": [
              "array([[0., 0., 0.],\n",
              "       [0., 0., 0.],\n",
              "       [0., 0., 0.]])"
            ]
          },
          "metadata": {},
          "execution_count": 16
        }
      ]
    },
    {
      "cell_type": "code",
      "source": [
        "Y=np.ones((3,3),dtype='int32')\n",
        "Z=np.empty((3,3))"
      ],
      "metadata": {
        "id": "QmyEz0wK3-Is"
      },
      "execution_count": null,
      "outputs": []
    },
    {
      "cell_type": "code",
      "source": [
        "# 미리 크기를 지정하지 않고 순차적으로 만들어야 할 경우가 있다.\n",
        "# 이때는 크기 0인 배열을 생성하고 append()를 수행한다.\n",
        "\n",
        "import numpy as np\n",
        "A=np.array([])\n",
        "for i in range(3):\n",
        "  A=np.append(A,[1,2,3])\n",
        "A"
      ],
      "metadata": {
        "colab": {
          "base_uri": "https://localhost:8080/"
        },
        "id": "QQmOZS374Rl3",
        "outputId": "5a20ebfe-82ed-451a-e349-9fee9c097fdb"
      },
      "execution_count": null,
      "outputs": [
        {
          "output_type": "execute_result",
          "data": {
            "text/plain": [
              "array([1., 2., 3., 1., 2., 3., 1., 2., 3.])"
            ]
          },
          "metadata": {},
          "execution_count": 18
        }
      ]
    },
    {
      "cell_type": "code",
      "source": [
        "A.dtype"
      ],
      "metadata": {
        "colab": {
          "base_uri": "https://localhost:8080/"
        },
        "id": "kBPp6Fdk4kV7",
        "outputId": "8e3c3537-deaa-47c8-b538-f50eceaacc88"
      },
      "execution_count": null,
      "outputs": [
        {
          "output_type": "execute_result",
          "data": {
            "text/plain": [
              "dtype('float64')"
            ]
          },
          "metadata": {},
          "execution_count": 19
        }
      ]
    },
    {
      "cell_type": "code",
      "source": [
        "# shape과 dtype 변경\n",
        "# ndarray는 고정된 크기를 유지하면서 shape을 변경할 수 있다.\n",
        "# (9,) -> (3,3)\n",
        "# reshape() 함수를 이용하여 변경할 수 있다.\n",
        "x=np.arange(0,9,1.)\n",
        "x"
      ],
      "metadata": {
        "colab": {
          "base_uri": "https://localhost:8080/"
        },
        "id": "ETZO3d9xAqS_",
        "outputId": "ea980370-ab51-47fb-fe8c-d1b3393bf4a2"
      },
      "execution_count": null,
      "outputs": [
        {
          "output_type": "execute_result",
          "data": {
            "text/plain": [
              "array([0., 1., 2., 3., 4., 5., 6., 7., 8.])"
            ]
          },
          "metadata": {},
          "execution_count": 21
        }
      ]
    },
    {
      "cell_type": "code",
      "source": [
        "y=np.reshape(x,(3,3))\n",
        "y"
      ],
      "metadata": {
        "colab": {
          "base_uri": "https://localhost:8080/"
        },
        "id": "huj-s_ZhAz_Y",
        "outputId": "f1db89f9-7730-47d6-c672-caf0d60cf2e8"
      },
      "execution_count": null,
      "outputs": [
        {
          "output_type": "execute_result",
          "data": {
            "text/plain": [
              "array([[0., 1., 2.],\n",
              "       [3., 4., 5.],\n",
              "       [6., 7., 8.]])"
            ]
          },
          "metadata": {},
          "execution_count": 23
        }
      ]
    },
    {
      "cell_type": "code",
      "source": [
        "# 만약 자기 자신을 대상으로 변경하면 shape 속성을 강제로 변경하면 된다.\n",
        "x.shape=(3,3)\n",
        "x"
      ],
      "metadata": {
        "colab": {
          "base_uri": "https://localhost:8080/"
        },
        "id": "y0JY16crBf8c",
        "outputId": "ea3289dd-8285-4100-f460-e250ba687442"
      },
      "execution_count": null,
      "outputs": [
        {
          "output_type": "execute_result",
          "data": {
            "text/plain": [
              "array([[0., 1., 2.],\n",
              "       [3., 4., 5.],\n",
              "       [6., 7., 8.]])"
            ]
          },
          "metadata": {},
          "execution_count": 25
        }
      ]
    },
    {
      "cell_type": "code",
      "source": [
        "# astype() 메서드를 사용하면 배열에서 dtype을 바꿀 수 있다.\n",
        "a=np.arange(3);\n",
        "a.astype(int)"
      ],
      "metadata": {
        "colab": {
          "base_uri": "https://localhost:8080/"
        },
        "id": "3Q6Sf2VcBsMo",
        "outputId": "b599ab9c-d440-4e7d-c0b0-ba39eef01835"
      },
      "execution_count": null,
      "outputs": [
        {
          "output_type": "execute_result",
          "data": {
            "text/plain": [
              "array([0, 1, 2])"
            ]
          },
          "metadata": {},
          "execution_count": 26
        }
      ]
    },
    {
      "cell_type": "code",
      "source": [
        "a.astype('int64')"
      ],
      "metadata": {
        "colab": {
          "base_uri": "https://localhost:8080/"
        },
        "id": "XeDRmXPxB4b4",
        "outputId": "fc895d3e-cbce-4c53-cc53-c9c0eff57eb9"
      },
      "execution_count": null,
      "outputs": [
        {
          "output_type": "execute_result",
          "data": {
            "text/plain": [
              "array([0, 1, 2])"
            ]
          },
          "metadata": {},
          "execution_count": 27
        }
      ]
    },
    {
      "cell_type": "code",
      "source": [
        "a.astype('float64')"
      ],
      "metadata": {
        "colab": {
          "base_uri": "https://localhost:8080/"
        },
        "id": "bjHkI9hiB-2O",
        "outputId": "31767a59-4ad7-44a5-db3b-a0313022fb42"
      },
      "execution_count": null,
      "outputs": [
        {
          "output_type": "execute_result",
          "data": {
            "text/plain": [
              "array([0., 1., 2.])"
            ]
          },
          "metadata": {},
          "execution_count": 28
        }
      ]
    },
    {
      "cell_type": "markdown",
      "source": [
        "\n",
        "\n",
        "---\n",
        "\n",
        "# **인덱싱과 합치기**\n"
      ],
      "metadata": {
        "id": "6l4CylsuC1Q1"
      }
    },
    {
      "cell_type": "code",
      "source": [
        "# ndarray에서 인덱싱하는 것은 A[2], A[2,3]등과 같은 [] 연산자를 사용\n",
        "# A[1:3,1:2]등과 같이 :를 이용한 범위 지정을 통해 부분 배열을 얻어낸다.\n",
        "a=np.array([1.2,-1.3,2.2,5.3,3.7])\n",
        "a"
      ],
      "metadata": {
        "id": "AM6Mmg9CCByf",
        "colab": {
          "base_uri": "https://localhost:8080/"
        },
        "outputId": "069a7ed8-bdb1-49c5-d42e-56d9a232a0a6"
      },
      "execution_count": null,
      "outputs": [
        {
          "output_type": "execute_result",
          "data": {
            "text/plain": [
              "array([ 1.2, -1.3,  2.2,  5.3,  3.7])"
            ]
          },
          "metadata": {},
          "execution_count": 29
        }
      ]
    },
    {
      "cell_type": "code",
      "source": [
        "a[0]"
      ],
      "metadata": {
        "colab": {
          "base_uri": "https://localhost:8080/"
        },
        "id": "G1r_Q-77D5tz",
        "outputId": "47ec3868-cde3-4d6a-82b9-fcba5978ec5f"
      },
      "execution_count": null,
      "outputs": [
        {
          "output_type": "execute_result",
          "data": {
            "text/plain": [
              "1.2"
            ]
          },
          "metadata": {},
          "execution_count": 30
        }
      ]
    },
    {
      "cell_type": "code",
      "source": [
        "a[0:3]"
      ],
      "metadata": {
        "colab": {
          "base_uri": "https://localhost:8080/"
        },
        "id": "0KzSORbVD6N2",
        "outputId": "b0d6f676-8bef-4484-eb20-b75ec4f43cc0"
      },
      "execution_count": null,
      "outputs": [
        {
          "output_type": "execute_result",
          "data": {
            "text/plain": [
              "array([ 1.2, -1.3,  2.2])"
            ]
          },
          "metadata": {},
          "execution_count": 31
        }
      ]
    },
    {
      "cell_type": "code",
      "source": [
        "a[-1]"
      ],
      "metadata": {
        "colab": {
          "base_uri": "https://localhost:8080/"
        },
        "id": "26aKGWlTD7V3",
        "outputId": "e796bc77-2dbc-4c9b-944d-b9c67848c306"
      },
      "execution_count": null,
      "outputs": [
        {
          "output_type": "execute_result",
          "data": {
            "text/plain": [
              "3.7"
            ]
          },
          "metadata": {},
          "execution_count": 32
        }
      ]
    },
    {
      "cell_type": "code",
      "source": [
        "a[-2]"
      ],
      "metadata": {
        "colab": {
          "base_uri": "https://localhost:8080/"
        },
        "id": "0kn4eYOvD8Od",
        "outputId": "a6c460a7-cb45-402d-fd92-fab154a4c69e"
      },
      "execution_count": null,
      "outputs": [
        {
          "output_type": "execute_result",
          "data": {
            "text/plain": [
              "5.3"
            ]
          },
          "metadata": {},
          "execution_count": 33
        }
      ]
    },
    {
      "cell_type": "code",
      "source": [
        "a[0:-1]"
      ],
      "metadata": {
        "colab": {
          "base_uri": "https://localhost:8080/"
        },
        "id": "r4dhdyCQD-DH",
        "outputId": "bc6ea529-1255-41e1-f364-87909e3a0653"
      },
      "execution_count": null,
      "outputs": [
        {
          "output_type": "execute_result",
          "data": {
            "text/plain": [
              "array([ 1.2, -1.3,  2.2,  5.3])"
            ]
          },
          "metadata": {},
          "execution_count": 34
        }
      ]
    },
    {
      "cell_type": "code",
      "source": [
        "a=np.array([1.2,-1.3,2.2,5.3,3.7])\n",
        "idx=[0,3]\n",
        "a[idx]"
      ],
      "metadata": {
        "colab": {
          "base_uri": "https://localhost:8080/"
        },
        "id": "sPjK0LmCD_mG",
        "outputId": "253f2970-fc7c-4113-a205-5b9daee157a7"
      },
      "execution_count": null,
      "outputs": [
        {
          "output_type": "execute_result",
          "data": {
            "text/plain": [
              "array([1.2, 5.3])"
            ]
          },
          "metadata": {},
          "execution_count": 35
        }
      ]
    },
    {
      "cell_type": "markdown",
      "source": [
        "**불린 배열**\n",
        "\n",
        "True와 False로 구성된 boolean array 역시 인덱스 배열처럼 사용가능.\n",
        "아래 코드에서 x>2와 같이 ndarray에 조건식을 부과하면 boolean array가 계산된다."
      ],
      "metadata": {
        "id": "YXHa6nP-ETdt"
      }
    },
    {
      "cell_type": "code",
      "source": [
        "x=np.array([1.2,-1.3,0.,2.2,0.,5.3,3.7])\n",
        "x[x>2]"
      ],
      "metadata": {
        "colab": {
          "base_uri": "https://localhost:8080/"
        },
        "id": "s6TpXZ_FERJ-",
        "outputId": "bd7a9b9f-8c64-4a76-eaef-be3b113da84d"
      },
      "execution_count": null,
      "outputs": [
        {
          "output_type": "execute_result",
          "data": {
            "text/plain": [
              "array([2.2, 5.3, 3.7])"
            ]
          },
          "metadata": {},
          "execution_count": 36
        }
      ]
    },
    {
      "cell_type": "code",
      "source": [
        "x=np.array([1.2,-1.3,0.,2.2,0.,5.3,3.7])\n",
        "x>2"
      ],
      "metadata": {
        "colab": {
          "base_uri": "https://localhost:8080/"
        },
        "id": "_ihWI_-bE2p8",
        "outputId": "5b42cc7b-d3b2-464d-e1f7-2f3183ffdecb"
      },
      "execution_count": null,
      "outputs": [
        {
          "output_type": "execute_result",
          "data": {
            "text/plain": [
              "array([False, False, False,  True, False,  True,  True])"
            ]
          },
          "metadata": {},
          "execution_count": 37
        }
      ]
    },
    {
      "cell_type": "code",
      "source": [
        "idx=x>2\n",
        "idx"
      ],
      "metadata": {
        "colab": {
          "base_uri": "https://localhost:8080/"
        },
        "id": "vp0nH8K0E8ir",
        "outputId": "422548ca-47f5-4a9d-a4b1-5b4702563292"
      },
      "execution_count": null,
      "outputs": [
        {
          "output_type": "execute_result",
          "data": {
            "text/plain": [
              "array([False, False, False,  True, False,  True,  True])"
            ]
          },
          "metadata": {},
          "execution_count": 38
        }
      ]
    },
    {
      "cell_type": "code",
      "source": [
        "x[idx]"
      ],
      "metadata": {
        "colab": {
          "base_uri": "https://localhost:8080/"
        },
        "id": "wZ4JNf-hFAi5",
        "outputId": "07948c3b-3b68-453d-8b59-6734210e4278"
      },
      "execution_count": null,
      "outputs": [
        {
          "output_type": "execute_result",
          "data": {
            "text/plain": [
              "array([2.2, 5.3, 3.7])"
            ]
          },
          "metadata": {},
          "execution_count": 39
        }
      ]
    },
    {
      "cell_type": "code",
      "source": [
        "# np.nonzero(x)는 배열 x의 원소가 0이 아닌 인덱스를 배열형태로 리턴해주는 함수.\n",
        "x=np.array([1.2,-1.3,0.,2.2,0.,5.3,3.7])\n",
        "np.nonzero(x)"
      ],
      "metadata": {
        "colab": {
          "base_uri": "https://localhost:8080/"
        },
        "id": "iZTwm2cBFCUt",
        "outputId": "9bc4bbb0-66e4-44b9-a7e1-f73d07b9a2f1"
      },
      "execution_count": null,
      "outputs": [
        {
          "output_type": "execute_result",
          "data": {
            "text/plain": [
              "(array([0, 1, 3, 5, 6]),)"
            ]
          },
          "metadata": {},
          "execution_count": 40
        }
      ]
    },
    {
      "cell_type": "code",
      "source": [
        "x=np.array([1.2,-1.3,0.,2.2,0.,5.3,3.7])\n",
        "np.nonzero(x>2)"
      ],
      "metadata": {
        "colab": {
          "base_uri": "https://localhost:8080/"
        },
        "id": "KTPLwB-GGLvr",
        "outputId": "598d689a-f4ae-43f2-8979-04a511ac59f6"
      },
      "execution_count": null,
      "outputs": [
        {
          "output_type": "execute_result",
          "data": {
            "text/plain": [
              "(array([3, 5, 6]),)"
            ]
          },
          "metadata": {},
          "execution_count": 41
        }
      ]
    },
    {
      "cell_type": "code",
      "source": [
        "# 합치기\n",
        "# concatenate((A,B,...),axis=0), hstack((A,B,...)),vstack((A,B,...))\n",
        "# 위의 함수를 통해 배열을 합칠 수 있다.\n",
        "a=np.array([[1,2],[3,4]])\n",
        "b=np.array([[5,6]])\n",
        "np.concatenate((a,b),axis=0) # 행으로 추가"
      ],
      "metadata": {
        "colab": {
          "base_uri": "https://localhost:8080/"
        },
        "id": "IxJFF7NBGQb3",
        "outputId": "8fc91e46-4212-4ed3-f4c2-fe9701afe968"
      },
      "execution_count": null,
      "outputs": [
        {
          "output_type": "execute_result",
          "data": {
            "text/plain": [
              "array([[1, 2],\n",
              "       [3, 4],\n",
              "       [5, 6]])"
            ]
          },
          "metadata": {},
          "execution_count": 48
        }
      ]
    },
    {
      "cell_type": "code",
      "source": [
        "np.concatenate((a,b.T),axis=1) # 열로 추가"
      ],
      "metadata": {
        "colab": {
          "base_uri": "https://localhost:8080/"
        },
        "id": "K_5FGQyyG3kb",
        "outputId": "1ae7bb7a-b70b-4df4-9550-989b0ccdb5ec"
      },
      "execution_count": null,
      "outputs": [
        {
          "output_type": "execute_result",
          "data": {
            "text/plain": [
              "array([[1, 2, 5],\n",
              "       [3, 4, 6]])"
            ]
          },
          "metadata": {},
          "execution_count": 43
        }
      ]
    },
    {
      "cell_type": "code",
      "source": [
        "# 2차원 행렬을 대상으로 한다면 hstack나 vstack이 더 편리하다.\n",
        "a=np.array([1,2,3])\n",
        "b=np.array([4,5,6])\n",
        "np.vstack((a,b))"
      ],
      "metadata": {
        "colab": {
          "base_uri": "https://localhost:8080/"
        },
        "id": "U4c9Qy98G7np",
        "outputId": "d8ee924d-4c2a-4dd2-8c47-e7555780646f"
      },
      "execution_count": null,
      "outputs": [
        {
          "output_type": "execute_result",
          "data": {
            "text/plain": [
              "array([[1, 2, 3],\n",
              "       [4, 5, 6]])"
            ]
          },
          "metadata": {},
          "execution_count": 44
        }
      ]
    },
    {
      "cell_type": "code",
      "source": [
        "np.hstack((a,b))"
      ],
      "metadata": {
        "colab": {
          "base_uri": "https://localhost:8080/"
        },
        "id": "xSmCyfPbHySK",
        "outputId": "328b6bb0-344d-4a1b-9240-1aa6e6c6e13b"
      },
      "execution_count": null,
      "outputs": [
        {
          "output_type": "execute_result",
          "data": {
            "text/plain": [
              "array([1, 2, 3, 4, 5, 6])"
            ]
          },
          "metadata": {},
          "execution_count": 45
        }
      ]
    },
    {
      "cell_type": "code",
      "source": [
        "c=np.append(a,b)"
      ],
      "metadata": {
        "id": "IVuoL1wLH2Xf"
      },
      "execution_count": null,
      "outputs": []
    },
    {
      "cell_type": "code",
      "source": [
        "c"
      ],
      "metadata": {
        "colab": {
          "base_uri": "https://localhost:8080/"
        },
        "id": "THLNnlUwIP_a",
        "outputId": "524fcd25-8cf4-4e1f-bfc8-3bdd745be3d6"
      },
      "execution_count": null,
      "outputs": [
        {
          "output_type": "execute_result",
          "data": {
            "text/plain": [
              "array([1, 2, 3, 4, 5, 6])"
            ]
          },
          "metadata": {},
          "execution_count": 47
        }
      ]
    },
    {
      "cell_type": "code",
      "source": [
        "b=np.array([5,6]) # 1차원 배열\n",
        "b.shape # 위에서 1차원 배열의 형태였으면 에러 발생."
      ],
      "metadata": {
        "colab": {
          "base_uri": "https://localhost:8080/"
        },
        "id": "U3RznRowISly",
        "outputId": "f7239b96-ce08-46f8-ad1d-43842501c762"
      },
      "execution_count": null,
      "outputs": [
        {
          "output_type": "execute_result",
          "data": {
            "text/plain": [
              "(2,)"
            ]
          },
          "metadata": {},
          "execution_count": 52
        }
      ]
    },
    {
      "cell_type": "code",
      "source": [
        "b=np.array([[5,6]]) # 2차원 배열\n",
        "b.shape"
      ],
      "metadata": {
        "colab": {
          "base_uri": "https://localhost:8080/"
        },
        "id": "DaXtIwPiI0_t",
        "outputId": "6170744d-c4a5-4c8c-8de6-67349d25e4eb"
      },
      "execution_count": null,
      "outputs": [
        {
          "output_type": "execute_result",
          "data": {
            "text/plain": [
              "(1, 2)"
            ]
          },
          "metadata": {},
          "execution_count": 53
        }
      ]
    },
    {
      "cell_type": "code",
      "source": [
        ""
      ],
      "metadata": {
        "id": "_JQbMGNhJLTG"
      },
      "execution_count": null,
      "outputs": []
    }
  ]
}