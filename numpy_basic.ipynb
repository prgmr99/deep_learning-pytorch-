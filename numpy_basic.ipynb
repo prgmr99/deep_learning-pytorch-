{
  "nbformat": 4,
  "nbformat_minor": 0,
  "metadata": {
    "colab": {
      "name": "numpy_basic.ipynb",
      "provenance": [],
      "collapsed_sections": [],
      "authorship_tag": "ABX9TyMuwPIagmtgIV/TOa3ruEPn",
      "include_colab_link": true
    },
    "kernelspec": {
      "name": "python3",
      "display_name": "Python 3"
    },
    "language_info": {
      "name": "python"
    }
  },
  "cells": [
    {
      "cell_type": "markdown",
      "metadata": {
        "id": "view-in-github",
        "colab_type": "text"
      },
      "source": [
        "<a href=\"https://colab.research.google.com/github/prgmr99/deep_learning-pytorch-/blob/others/numpy_basic.ipynb\" target=\"_parent\"><img src=\"https://colab.research.google.com/assets/colab-badge.svg\" alt=\"Open In Colab\"/></a>"
      ]
    },
    {
      "cell_type": "markdown",
      "source": [
        "# ndarray 개념"
      ],
      "metadata": {
        "id": "3hd2yMRQCEKr"
      }
    },
    {
      "cell_type": "markdown",
      "source": [
        "Numpy는 과학 컴퓨팅을 위한 기본 패키지.\n",
        "\n",
        "다차원 배열 객체, 이로부터 유도한 마스크된 배열 및 행렬 등과 같은 객체, 논리, 배열 형태 조작, 정렬, 선택, I/O를 비롯한 배열에 대한 빠른 작업을 위한 다양한 루틴을 제공한다.\n",
        "\n",
        "이외에도 이산 푸리에 변환, 기본 선형 대수학, 기본 통계 연산, 무작위 시뮬레이션 등등 다양한 기능을 가지고 있다."
      ],
      "metadata": {
        "id": "O8lxkoOvyC5t"
      }
    },
    {
      "cell_type": "code",
      "execution_count": 2,
      "metadata": {
        "id": "yp5QCD5JyBE6"
      },
      "outputs": [],
      "source": [
        "# Numpy와 패키지의 핵심은 ndarray 객체이다.\n",
        "# ndarray는 fixed-size homogeneous multidimensional array 정도로 이해할 수 있다.\n",
        "# 기본적으로 vectorization 과 broadcasting을 지원\n"
      ]
    },
    {
      "cell_type": "markdown",
      "source": [
        "Python에서 제공하는 list, tuple 등의 시퀀스 자료형은 서로 다른 데이터타입을 저장할 수 있고\n",
        "(heterogeneous sequence), 크기가 자동으로 커질 수 있다.\n",
        "\n",
        "반면에 ndarray는 성능향상을 위해 같은 데이터타입만을 요소로 가질 수 있고, 크기 역시 고정되어 있다.\n",
        "만약 크기를 변경하면 새로 메모리에 할당되고 이전 값은 삭제된다."
      ],
      "metadata": {
        "id": "2Ui-f7Fhz8oj"
      }
    },
    {
      "cell_type": "code",
      "source": [
        "# ndarray는 list나 tuple 같은 시퀀스 자료형으로부터 생성한다.\n",
        "import numpy as np\n",
        "x=np.array((0.1,0.2,0.3))\n",
        "x"
      ],
      "metadata": {
        "colab": {
          "base_uri": "https://localhost:8080/"
        },
        "id": "c0rrlBK6z7ef",
        "outputId": "dbf2e483-c06b-4f07-cd8f-dde828b1bf18"
      },
      "execution_count": 3,
      "outputs": [
        {
          "output_type": "execute_result",
          "data": {
            "text/plain": [
              "array([0.1, 0.2, 0.3])"
            ]
          },
          "metadata": {},
          "execution_count": 3
        }
      ]
    },
    {
      "cell_type": "code",
      "source": [
        "x.shape"
      ],
      "metadata": {
        "colab": {
          "base_uri": "https://localhost:8080/"
        },
        "id": "pY6MuT7T0hwM",
        "outputId": "4623df35-27ec-449d-abad-35c35655eb37"
      },
      "execution_count": 4,
      "outputs": [
        {
          "output_type": "execute_result",
          "data": {
            "text/plain": [
              "(3,)"
            ]
          },
          "metadata": {},
          "execution_count": 4
        }
      ]
    },
    {
      "cell_type": "code",
      "source": [
        "x.dtype"
      ],
      "metadata": {
        "colab": {
          "base_uri": "https://localhost:8080/"
        },
        "id": "JwJrZZ7Q0uhg",
        "outputId": "0b38aac2-9341-447b-8e18-07b5d9d08e6a"
      },
      "execution_count": 5,
      "outputs": [
        {
          "output_type": "execute_result",
          "data": {
            "text/plain": [
              "dtype('float64')"
            ]
          },
          "metadata": {},
          "execution_count": 5
        }
      ]
    },
    {
      "cell_type": "code",
      "source": [
        "y=np.array(((1,2,3),(4,5,6)))\n",
        "y"
      ],
      "metadata": {
        "colab": {
          "base_uri": "https://localhost:8080/"
        },
        "id": "3Xb66jXY1DQx",
        "outputId": "0d095b12-492d-47a4-fe21-36c234afc0ab"
      },
      "execution_count": 6,
      "outputs": [
        {
          "output_type": "execute_result",
          "data": {
            "text/plain": [
              "array([[1, 2, 3],\n",
              "       [4, 5, 6]])"
            ]
          },
          "metadata": {},
          "execution_count": 6
        }
      ]
    },
    {
      "cell_type": "code",
      "source": [
        "y.dtype"
      ],
      "metadata": {
        "colab": {
          "base_uri": "https://localhost:8080/"
        },
        "id": "UjJo1cyz1JO_",
        "outputId": "818d6f30-2c6e-4842-fca9-bc55fc54933b"
      },
      "execution_count": 7,
      "outputs": [
        {
          "output_type": "execute_result",
          "data": {
            "text/plain": [
              "dtype('int64')"
            ]
          },
          "metadata": {},
          "execution_count": 7
        }
      ]
    },
    {
      "cell_type": "code",
      "source": [
        "y.shape"
      ],
      "metadata": {
        "colab": {
          "base_uri": "https://localhost:8080/"
        },
        "id": "qIITh51A1LW6",
        "outputId": "8a3fcc52-aa7d-4b71-cdb8-03d2c36a0076"
      },
      "execution_count": 8,
      "outputs": [
        {
          "output_type": "execute_result",
          "data": {
            "text/plain": [
              "(2, 3)"
            ]
          },
          "metadata": {},
          "execution_count": 8
        }
      ]
    },
    {
      "cell_type": "code",
      "source": [
        "# x는 float64를 요소 타입으로 갖는 크기 3의 1차원 배열\n",
        "# y는 int32을 요소 타입으로 하는 (2,3) 크기의 2차원 배열\n",
        "# 요소 타입을 dtype 멤버에서 확인할 수 있으며, 차원 shape에서 확인할 수 있다.\n",
        "# 1차원 배열의 shape은 (m,) 형태이고, 2차원 배열은 (m,n) 형태이다. 3차원은 (p,q,r)등과 같다.\n",
        "# 생성시 입력된 값을 통해 dtype을 추정하는데, 강제로 지정하는 것은 다음과 같다.\n",
        "z=np.array([1,2,3], dtype='float64')"
      ],
      "metadata": {
        "id": "fHiu3GxI1MG_"
      },
      "execution_count": 9,
      "outputs": []
    },
    {
      "cell_type": "markdown",
      "source": [
        "narray의 중요 속성\n",
        "\n",
        "*   shape: 배열의 형태\n",
        "*   dtype: 요소의 데이터 타입, int32, float32 등등\n",
        "*   ndim: 차원수. x.ndim=1, y.ndim=2 등이며 len(x.shape)와 동일\n",
        "*   size: 요소의 개수. shape의 모든 값의 곲. x.size=3, y.size=6 등\n",
        "*   itemsize: 요소 데이터 타입의 크기(byte 단위), x.itemsize=8 등\n",
        "*   data: 실제 데이터, 직접 사용자가 접근할 필요는 없다.\n",
        "\n",
        "\n",
        "\n",
        "\n",
        "\n"
      ],
      "metadata": {
        "id": "ld0E86S32TfM"
      }
    },
    {
      "cell_type": "markdown",
      "source": [
        "**초기화 관련 편의함수**\n",
        "\n",
        "zeros()는 모두 0으로 초기화한다.\n",
        "\n",
        "ones()는 모두 1로 초기화한다.\n",
        "\n",
        "empty()는 값을 초기화하지 않고(메모리 상태에 따라 다른 값이 들어감) 생성한다.\n",
        "\n",
        "인자로 생성할 배열의 차원을 list, tuple로 지정한다.\n",
        "\n",
        "dtype은 디폴트가 float64이고, 변경을 원하면 지정해야한다."
      ],
      "metadata": {
        "id": "G4JuZldR3R1R"
      }
    },
    {
      "cell_type": "code",
      "source": [
        "Y=np.zeros((3,3))\n",
        "Y"
      ],
      "metadata": {
        "colab": {
          "base_uri": "https://localhost:8080/"
        },
        "id": "wlAPQQwv34lY",
        "outputId": "21a9c825-b78f-407c-a877-17738527bc9d"
      },
      "execution_count": 10,
      "outputs": [
        {
          "output_type": "execute_result",
          "data": {
            "text/plain": [
              "array([[0., 0., 0.],\n",
              "       [0., 0., 0.],\n",
              "       [0., 0., 0.]])"
            ]
          },
          "metadata": {},
          "execution_count": 10
        }
      ]
    },
    {
      "cell_type": "code",
      "source": [
        "Y=np.ones((3,3),dtype='int32')\n",
        "Z=np.empty((3,3))"
      ],
      "metadata": {
        "id": "QmyEz0wK3-Is"
      },
      "execution_count": 11,
      "outputs": []
    },
    {
      "cell_type": "code",
      "source": [
        "# 미리 크기를 지정하지 않고 순차적으로 만들어야 할 경우가 있다.\n",
        "# 이때는 크기 0인 배열을 생성하고 append()를 수행한다.\n",
        "\n",
        "import numpy as np\n",
        "A=np.array([])\n",
        "for i in range(3):\n",
        "  A=np.append(A,[1,2,3])\n",
        "A"
      ],
      "metadata": {
        "colab": {
          "base_uri": "https://localhost:8080/"
        },
        "id": "QQmOZS374Rl3",
        "outputId": "384e0db8-6ca6-4b9a-c201-ae96e7a30127"
      },
      "execution_count": 12,
      "outputs": [
        {
          "output_type": "execute_result",
          "data": {
            "text/plain": [
              "array([1., 2., 3., 1., 2., 3., 1., 2., 3.])"
            ]
          },
          "metadata": {},
          "execution_count": 12
        }
      ]
    },
    {
      "cell_type": "code",
      "source": [
        "A.dtype"
      ],
      "metadata": {
        "colab": {
          "base_uri": "https://localhost:8080/"
        },
        "id": "kBPp6Fdk4kV7",
        "outputId": "82982d73-eaed-482e-e72a-b7fecce612fa"
      },
      "execution_count": 13,
      "outputs": [
        {
          "output_type": "execute_result",
          "data": {
            "text/plain": [
              "dtype('float64')"
            ]
          },
          "metadata": {},
          "execution_count": 13
        }
      ]
    },
    {
      "cell_type": "code",
      "source": [
        "# shape과 dtype 변경\n",
        "# ndarray는 고정된 크기를 유지하면서 shape을 변경할 수 있다.\n",
        "# (9,) -> (3,3)\n",
        "# reshape() 함수를 이용하여 변경할 수 있다.\n",
        "x=np.arange(0,9,1.)\n",
        "x"
      ],
      "metadata": {
        "colab": {
          "base_uri": "https://localhost:8080/"
        },
        "id": "ETZO3d9xAqS_",
        "outputId": "430a80eb-96e6-40a9-c1fe-f5f571648598"
      },
      "execution_count": 14,
      "outputs": [
        {
          "output_type": "execute_result",
          "data": {
            "text/plain": [
              "array([0., 1., 2., 3., 4., 5., 6., 7., 8.])"
            ]
          },
          "metadata": {},
          "execution_count": 14
        }
      ]
    },
    {
      "cell_type": "code",
      "source": [
        "y=np.reshape(x,(3,3))\n",
        "y"
      ],
      "metadata": {
        "colab": {
          "base_uri": "https://localhost:8080/"
        },
        "id": "huj-s_ZhAz_Y",
        "outputId": "0e6abd70-4ecb-4f4f-fd80-66d1944a3603"
      },
      "execution_count": 15,
      "outputs": [
        {
          "output_type": "execute_result",
          "data": {
            "text/plain": [
              "array([[0., 1., 2.],\n",
              "       [3., 4., 5.],\n",
              "       [6., 7., 8.]])"
            ]
          },
          "metadata": {},
          "execution_count": 15
        }
      ]
    },
    {
      "cell_type": "code",
      "source": [
        "# 만약 자기 자신을 대상으로 변경하면 shape 속성을 강제로 변경하면 된다.\n",
        "x.shape=(3,3)\n",
        "x"
      ],
      "metadata": {
        "colab": {
          "base_uri": "https://localhost:8080/"
        },
        "id": "y0JY16crBf8c",
        "outputId": "579ba0a0-9a6c-4aaf-b415-9d0ffe68f659"
      },
      "execution_count": 16,
      "outputs": [
        {
          "output_type": "execute_result",
          "data": {
            "text/plain": [
              "array([[0., 1., 2.],\n",
              "       [3., 4., 5.],\n",
              "       [6., 7., 8.]])"
            ]
          },
          "metadata": {},
          "execution_count": 16
        }
      ]
    },
    {
      "cell_type": "code",
      "source": [
        "# astype() 메서드를 사용하면 배열에서 dtype을 바꿀 수 있다.\n",
        "a=np.arange(3);\n",
        "a.astype(int)"
      ],
      "metadata": {
        "colab": {
          "base_uri": "https://localhost:8080/"
        },
        "id": "3Q6Sf2VcBsMo",
        "outputId": "5fb11e92-2030-46cd-8ae0-055b6b3b3957"
      },
      "execution_count": 17,
      "outputs": [
        {
          "output_type": "execute_result",
          "data": {
            "text/plain": [
              "array([0, 1, 2])"
            ]
          },
          "metadata": {},
          "execution_count": 17
        }
      ]
    },
    {
      "cell_type": "code",
      "source": [
        "a.astype('int64')"
      ],
      "metadata": {
        "colab": {
          "base_uri": "https://localhost:8080/"
        },
        "id": "XeDRmXPxB4b4",
        "outputId": "62e4cb50-65d5-4b45-d73a-465114b14633"
      },
      "execution_count": 18,
      "outputs": [
        {
          "output_type": "execute_result",
          "data": {
            "text/plain": [
              "array([0, 1, 2])"
            ]
          },
          "metadata": {},
          "execution_count": 18
        }
      ]
    },
    {
      "cell_type": "code",
      "source": [
        "a.astype('float64')"
      ],
      "metadata": {
        "colab": {
          "base_uri": "https://localhost:8080/"
        },
        "id": "bjHkI9hiB-2O",
        "outputId": "1a328e6c-7619-4aba-e204-ef0d9d722efc"
      },
      "execution_count": 19,
      "outputs": [
        {
          "output_type": "execute_result",
          "data": {
            "text/plain": [
              "array([0., 1., 2.])"
            ]
          },
          "metadata": {},
          "execution_count": 19
        }
      ]
    },
    {
      "cell_type": "markdown",
      "source": [
        "\n",
        "\n",
        "---\n",
        "\n",
        "# **인덱싱과 합치기**\n"
      ],
      "metadata": {
        "id": "6l4CylsuC1Q1"
      }
    },
    {
      "cell_type": "code",
      "source": [
        "# ndarray에서 인덱싱하는 것은 A[2], A[2,3]등과 같은 [] 연산자를 사용\n",
        "# A[1:3,1:2]등과 같이 :를 이용한 범위 지정을 통해 부분 배열을 얻어낸다.\n",
        "a=np.array([1.2,-1.3,2.2,5.3,3.7])\n",
        "a"
      ],
      "metadata": {
        "id": "AM6Mmg9CCByf",
        "colab": {
          "base_uri": "https://localhost:8080/"
        },
        "outputId": "ce9543b4-38c8-40d7-c77e-9165f63b4eda"
      },
      "execution_count": 20,
      "outputs": [
        {
          "output_type": "execute_result",
          "data": {
            "text/plain": [
              "array([ 1.2, -1.3,  2.2,  5.3,  3.7])"
            ]
          },
          "metadata": {},
          "execution_count": 20
        }
      ]
    },
    {
      "cell_type": "code",
      "source": [
        "a[0]"
      ],
      "metadata": {
        "colab": {
          "base_uri": "https://localhost:8080/"
        },
        "id": "G1r_Q-77D5tz",
        "outputId": "15914158-a912-4fdc-a517-62ce483a3ecf"
      },
      "execution_count": 21,
      "outputs": [
        {
          "output_type": "execute_result",
          "data": {
            "text/plain": [
              "1.2"
            ]
          },
          "metadata": {},
          "execution_count": 21
        }
      ]
    },
    {
      "cell_type": "code",
      "source": [
        "a[0:3]"
      ],
      "metadata": {
        "colab": {
          "base_uri": "https://localhost:8080/"
        },
        "id": "0KzSORbVD6N2",
        "outputId": "bc701efc-3e9c-48f2-c793-fcaab0b28c60"
      },
      "execution_count": 22,
      "outputs": [
        {
          "output_type": "execute_result",
          "data": {
            "text/plain": [
              "array([ 1.2, -1.3,  2.2])"
            ]
          },
          "metadata": {},
          "execution_count": 22
        }
      ]
    },
    {
      "cell_type": "code",
      "source": [
        "a[-1]"
      ],
      "metadata": {
        "colab": {
          "base_uri": "https://localhost:8080/"
        },
        "id": "26aKGWlTD7V3",
        "outputId": "d6855636-f5ea-465e-bb83-e7f611664ecd"
      },
      "execution_count": 23,
      "outputs": [
        {
          "output_type": "execute_result",
          "data": {
            "text/plain": [
              "3.7"
            ]
          },
          "metadata": {},
          "execution_count": 23
        }
      ]
    },
    {
      "cell_type": "code",
      "source": [
        "a[-2]"
      ],
      "metadata": {
        "colab": {
          "base_uri": "https://localhost:8080/"
        },
        "id": "0kn4eYOvD8Od",
        "outputId": "1c81931b-91aa-45d5-8b85-49f12183cd28"
      },
      "execution_count": 24,
      "outputs": [
        {
          "output_type": "execute_result",
          "data": {
            "text/plain": [
              "5.3"
            ]
          },
          "metadata": {},
          "execution_count": 24
        }
      ]
    },
    {
      "cell_type": "code",
      "source": [
        "a[0:-1]"
      ],
      "metadata": {
        "colab": {
          "base_uri": "https://localhost:8080/"
        },
        "id": "r4dhdyCQD-DH",
        "outputId": "e3f97707-7936-419e-e656-b66d3b27d52a"
      },
      "execution_count": 25,
      "outputs": [
        {
          "output_type": "execute_result",
          "data": {
            "text/plain": [
              "array([ 1.2, -1.3,  2.2,  5.3])"
            ]
          },
          "metadata": {},
          "execution_count": 25
        }
      ]
    },
    {
      "cell_type": "code",
      "source": [
        "a=np.array([1.2,-1.3,2.2,5.3,3.7])\n",
        "idx=[0,3]\n",
        "a[idx]"
      ],
      "metadata": {
        "colab": {
          "base_uri": "https://localhost:8080/"
        },
        "id": "sPjK0LmCD_mG",
        "outputId": "20de26e7-d537-434a-c127-971a352edfb5"
      },
      "execution_count": 26,
      "outputs": [
        {
          "output_type": "execute_result",
          "data": {
            "text/plain": [
              "array([1.2, 5.3])"
            ]
          },
          "metadata": {},
          "execution_count": 26
        }
      ]
    },
    {
      "cell_type": "markdown",
      "source": [
        "**불린 배열**\n",
        "\n",
        "True와 False로 구성된 boolean array 역시 인덱스 배열처럼 사용가능.\n",
        "아래 코드에서 x>2와 같이 ndarray에 조건식을 부과하면 boolean array가 계산된다."
      ],
      "metadata": {
        "id": "YXHa6nP-ETdt"
      }
    },
    {
      "cell_type": "code",
      "source": [
        "x=np.array([1.2,-1.3,0.,2.2,0.,5.3,3.7])\n",
        "x[x>2]"
      ],
      "metadata": {
        "colab": {
          "base_uri": "https://localhost:8080/"
        },
        "id": "s6TpXZ_FERJ-",
        "outputId": "06c89a7a-2eb9-421b-9adf-d56ff0b96906"
      },
      "execution_count": 27,
      "outputs": [
        {
          "output_type": "execute_result",
          "data": {
            "text/plain": [
              "array([2.2, 5.3, 3.7])"
            ]
          },
          "metadata": {},
          "execution_count": 27
        }
      ]
    },
    {
      "cell_type": "code",
      "source": [
        "x=np.array([1.2,-1.3,0.,2.2,0.,5.3,3.7])\n",
        "x>2"
      ],
      "metadata": {
        "colab": {
          "base_uri": "https://localhost:8080/"
        },
        "id": "_ihWI_-bE2p8",
        "outputId": "8f767c80-bfec-49ce-9296-2e811f1e7839"
      },
      "execution_count": 28,
      "outputs": [
        {
          "output_type": "execute_result",
          "data": {
            "text/plain": [
              "array([False, False, False,  True, False,  True,  True])"
            ]
          },
          "metadata": {},
          "execution_count": 28
        }
      ]
    },
    {
      "cell_type": "code",
      "source": [
        "idx=x>2\n",
        "idx"
      ],
      "metadata": {
        "colab": {
          "base_uri": "https://localhost:8080/"
        },
        "id": "vp0nH8K0E8ir",
        "outputId": "fd943483-b7d9-46a0-8d08-dd3ac60e1444"
      },
      "execution_count": 29,
      "outputs": [
        {
          "output_type": "execute_result",
          "data": {
            "text/plain": [
              "array([False, False, False,  True, False,  True,  True])"
            ]
          },
          "metadata": {},
          "execution_count": 29
        }
      ]
    },
    {
      "cell_type": "code",
      "source": [
        "x[idx]"
      ],
      "metadata": {
        "colab": {
          "base_uri": "https://localhost:8080/"
        },
        "id": "wZ4JNf-hFAi5",
        "outputId": "a564ce86-f89e-44e9-a57b-7901f892bd65"
      },
      "execution_count": 30,
      "outputs": [
        {
          "output_type": "execute_result",
          "data": {
            "text/plain": [
              "array([2.2, 5.3, 3.7])"
            ]
          },
          "metadata": {},
          "execution_count": 30
        }
      ]
    },
    {
      "cell_type": "code",
      "source": [
        "# np.nonzero(x)는 배열 x의 원소가 0이 아닌 인덱스를 배열형태로 리턴해주는 함수.\n",
        "x=np.array([1.2,-1.3,0.,2.2,0.,5.3,3.7])\n",
        "np.nonzero(x)"
      ],
      "metadata": {
        "colab": {
          "base_uri": "https://localhost:8080/"
        },
        "id": "iZTwm2cBFCUt",
        "outputId": "4dca9112-372f-4067-c110-d2085ef5bb46"
      },
      "execution_count": 31,
      "outputs": [
        {
          "output_type": "execute_result",
          "data": {
            "text/plain": [
              "(array([0, 1, 3, 5, 6]),)"
            ]
          },
          "metadata": {},
          "execution_count": 31
        }
      ]
    },
    {
      "cell_type": "code",
      "source": [
        "x=np.array([1.2,-1.3,0.,2.2,0.,5.3,3.7])\n",
        "np.nonzero(x>2)"
      ],
      "metadata": {
        "colab": {
          "base_uri": "https://localhost:8080/"
        },
        "id": "KTPLwB-GGLvr",
        "outputId": "f1754821-6e6a-480d-b473-9141c7f516de"
      },
      "execution_count": 32,
      "outputs": [
        {
          "output_type": "execute_result",
          "data": {
            "text/plain": [
              "(array([3, 5, 6]),)"
            ]
          },
          "metadata": {},
          "execution_count": 32
        }
      ]
    },
    {
      "cell_type": "code",
      "source": [
        "# 합치기\n",
        "# concatenate((A,B,...),axis=0), hstack((A,B,...)),vstack((A,B,...))\n",
        "# 위의 함수를 통해 배열을 합칠 수 있다.\n",
        "a=np.array([[1,2],[3,4]])\n",
        "b=np.array([[5,6]])\n",
        "np.concatenate((a,b),axis=0) # 행으로 추가"
      ],
      "metadata": {
        "colab": {
          "base_uri": "https://localhost:8080/"
        },
        "id": "IxJFF7NBGQb3",
        "outputId": "3e4acd0a-5960-4da4-a127-e06f91df5051"
      },
      "execution_count": 33,
      "outputs": [
        {
          "output_type": "execute_result",
          "data": {
            "text/plain": [
              "array([[1, 2],\n",
              "       [3, 4],\n",
              "       [5, 6]])"
            ]
          },
          "metadata": {},
          "execution_count": 33
        }
      ]
    },
    {
      "cell_type": "code",
      "source": [
        "np.concatenate((a,b.T),axis=1) # 열로 추가"
      ],
      "metadata": {
        "colab": {
          "base_uri": "https://localhost:8080/"
        },
        "id": "K_5FGQyyG3kb",
        "outputId": "e23b3604-a21c-45b2-9b44-ef6d560822f4"
      },
      "execution_count": 34,
      "outputs": [
        {
          "output_type": "execute_result",
          "data": {
            "text/plain": [
              "array([[1, 2, 5],\n",
              "       [3, 4, 6]])"
            ]
          },
          "metadata": {},
          "execution_count": 34
        }
      ]
    },
    {
      "cell_type": "code",
      "source": [
        "# 2차원 행렬을 대상으로 한다면 hstack나 vstack이 더 편리하다.\n",
        "a=np.array([1,2,3])\n",
        "b=np.array([4,5,6])\n",
        "np.vstack((a,b))"
      ],
      "metadata": {
        "colab": {
          "base_uri": "https://localhost:8080/"
        },
        "id": "U4c9Qy98G7np",
        "outputId": "d45ed8b4-167f-4770-c987-659165fb3814"
      },
      "execution_count": 35,
      "outputs": [
        {
          "output_type": "execute_result",
          "data": {
            "text/plain": [
              "array([[1, 2, 3],\n",
              "       [4, 5, 6]])"
            ]
          },
          "metadata": {},
          "execution_count": 35
        }
      ]
    },
    {
      "cell_type": "code",
      "source": [
        "np.hstack((a,b))"
      ],
      "metadata": {
        "colab": {
          "base_uri": "https://localhost:8080/"
        },
        "id": "xSmCyfPbHySK",
        "outputId": "f08d5027-504c-4ab4-a779-9f07946713c6"
      },
      "execution_count": 36,
      "outputs": [
        {
          "output_type": "execute_result",
          "data": {
            "text/plain": [
              "array([1, 2, 3, 4, 5, 6])"
            ]
          },
          "metadata": {},
          "execution_count": 36
        }
      ]
    },
    {
      "cell_type": "code",
      "source": [
        "c=np.append(a,b)"
      ],
      "metadata": {
        "id": "IVuoL1wLH2Xf"
      },
      "execution_count": 37,
      "outputs": []
    },
    {
      "cell_type": "code",
      "source": [
        "c"
      ],
      "metadata": {
        "colab": {
          "base_uri": "https://localhost:8080/"
        },
        "id": "THLNnlUwIP_a",
        "outputId": "3a2d06c2-6b2a-45a5-cfaf-8663b0a7f22c"
      },
      "execution_count": 38,
      "outputs": [
        {
          "output_type": "execute_result",
          "data": {
            "text/plain": [
              "array([1, 2, 3, 4, 5, 6])"
            ]
          },
          "metadata": {},
          "execution_count": 38
        }
      ]
    },
    {
      "cell_type": "code",
      "source": [
        "b=np.array([5,6]) # 1차원 배열\n",
        "b.shape # 위에서 1차원 배열의 형태였으면 에러 발생."
      ],
      "metadata": {
        "colab": {
          "base_uri": "https://localhost:8080/"
        },
        "id": "U3RznRowISly",
        "outputId": "1f923a58-258b-4ba4-cb25-f66566d7f580"
      },
      "execution_count": 39,
      "outputs": [
        {
          "output_type": "execute_result",
          "data": {
            "text/plain": [
              "(2,)"
            ]
          },
          "metadata": {},
          "execution_count": 39
        }
      ]
    },
    {
      "cell_type": "code",
      "source": [
        "b=np.array([[5,6]]) # 2차원 배열\n",
        "b.shape"
      ],
      "metadata": {
        "colab": {
          "base_uri": "https://localhost:8080/"
        },
        "id": "DaXtIwPiI0_t",
        "outputId": "f67bb3b2-3ac4-4ba8-e927-d3cb3e587ed4"
      },
      "execution_count": 40,
      "outputs": [
        {
          "output_type": "execute_result",
          "data": {
            "text/plain": [
              "(1, 2)"
            ]
          },
          "metadata": {},
          "execution_count": 40
        }
      ]
    },
    {
      "cell_type": "markdown",
      "source": [
        "# **연산**"
      ],
      "metadata": {
        "id": "zbqpp5kpBFYR"
      }
    },
    {
      "cell_type": "code",
      "source": [
        "# ndarray 객체에 대한 연산은 기본적으로 elementwise로 진행된다.\n",
        "a=np.array([1,2,3,4])\n",
        "b=np.array([4,5,6,7])\n",
        "a+b"
      ],
      "metadata": {
        "colab": {
          "base_uri": "https://localhost:8080/"
        },
        "id": "_JQbMGNhJLTG",
        "outputId": "52985dd0-f07f-470b-c16e-61e300866423"
      },
      "execution_count": 44,
      "outputs": [
        {
          "output_type": "execute_result",
          "data": {
            "text/plain": [
              "array([ 5,  7,  9, 11])"
            ]
          },
          "metadata": {},
          "execution_count": 44
        }
      ]
    },
    {
      "cell_type": "code",
      "source": [
        "a*b"
      ],
      "metadata": {
        "colab": {
          "base_uri": "https://localhost:8080/"
        },
        "id": "zKtXuXVuBYum",
        "outputId": "461ec4dc-33df-4d82-d3b0-53ab63e5515b"
      },
      "execution_count": 45,
      "outputs": [
        {
          "output_type": "execute_result",
          "data": {
            "text/plain": [
              "array([ 4, 10, 18, 28])"
            ]
          },
          "metadata": {},
          "execution_count": 45
        }
      ]
    },
    {
      "cell_type": "code",
      "source": [
        "a**2"
      ],
      "metadata": {
        "colab": {
          "base_uri": "https://localhost:8080/"
        },
        "id": "ixOr44-kBiIl",
        "outputId": "ca836a66-7116-4dd2-98df-62ecada1028e"
      },
      "execution_count": 46,
      "outputs": [
        {
          "output_type": "execute_result",
          "data": {
            "text/plain": [
              "array([ 1,  4,  9, 16])"
            ]
          },
          "metadata": {},
          "execution_count": 46
        }
      ]
    },
    {
      "cell_type": "code",
      "source": [
        "a+2"
      ],
      "metadata": {
        "colab": {
          "base_uri": "https://localhost:8080/"
        },
        "id": "Lmav4NsbBi0E",
        "outputId": "8e08bd6e-7f93-4280-a695-7bd36e7ad1b2"
      },
      "execution_count": 47,
      "outputs": [
        {
          "output_type": "execute_result",
          "data": {
            "text/plain": [
              "array([3, 4, 5, 6])"
            ]
          },
          "metadata": {},
          "execution_count": 47
        }
      ]
    },
    {
      "cell_type": "code",
      "source": [
        "10*np.sin(a)"
      ],
      "metadata": {
        "colab": {
          "base_uri": "https://localhost:8080/"
        },
        "id": "AjVLAQ-LBkKn",
        "outputId": "3999f771-fba7-4fff-d61c-738e98b65fbd"
      },
      "execution_count": 48,
      "outputs": [
        {
          "output_type": "execute_result",
          "data": {
            "text/plain": [
              "array([ 8.41470985,  9.09297427,  1.41120008, -7.56802495])"
            ]
          },
          "metadata": {},
          "execution_count": 48
        }
      ]
    },
    {
      "cell_type": "code",
      "source": [
        "a<3"
      ],
      "metadata": {
        "colab": {
          "base_uri": "https://localhost:8080/"
        },
        "id": "f3sjkDqhBmwV",
        "outputId": "dedaf579-7a35-45b8-a828-ae7c99ada716"
      },
      "execution_count": 49,
      "outputs": [
        {
          "output_type": "execute_result",
          "data": {
            "text/plain": [
              "array([ True,  True, False, False])"
            ]
          },
          "metadata": {},
          "execution_count": 49
        }
      ]
    },
    {
      "cell_type": "code",
      "source": [
        "a*=b"
      ],
      "metadata": {
        "id": "BE7B4l3SBnpT"
      },
      "execution_count": 54,
      "outputs": []
    },
    {
      "cell_type": "code",
      "source": [
        "a"
      ],
      "metadata": {
        "colab": {
          "base_uri": "https://localhost:8080/"
        },
        "id": "ICuhBFUjBqP0",
        "outputId": "09b0c2ea-6352-424f-9c29-b45f3476f1ab"
      },
      "execution_count": 55,
      "outputs": [
        {
          "output_type": "execute_result",
          "data": {
            "text/plain": [
              "array([ 1024,  6250, 23328, 67228])"
            ]
          },
          "metadata": {},
          "execution_count": 55
        }
      ]
    },
    {
      "cell_type": "code",
      "source": [
        "# 위와 같이 배열의 개별 요소가 아닌 배열에 대해 연산을 적용하는 것을 vectorization이라 하며\n",
        "# 크기가 다를 경우에도 작동하도록 한 것을 broadcasting이라고 한다.\n",
        "\n",
        "# Universal 함수\n",
        "x=np.arange(0.,2*np.pi,0.1)\n",
        "y=np.sin(x)\n",
        "y"
      ],
      "metadata": {
        "colab": {
          "base_uri": "https://localhost:8080/"
        },
        "id": "UP4WKNdrB3tq",
        "outputId": "3669fabc-98c4-4953-a18c-576b85c20080"
      },
      "execution_count": 56,
      "outputs": [
        {
          "output_type": "execute_result",
          "data": {
            "text/plain": [
              "array([ 0.        ,  0.09983342,  0.19866933,  0.29552021,  0.38941834,\n",
              "        0.47942554,  0.56464247,  0.64421769,  0.71735609,  0.78332691,\n",
              "        0.84147098,  0.89120736,  0.93203909,  0.96355819,  0.98544973,\n",
              "        0.99749499,  0.9995736 ,  0.99166481,  0.97384763,  0.94630009,\n",
              "        0.90929743,  0.86320937,  0.8084964 ,  0.74570521,  0.67546318,\n",
              "        0.59847214,  0.51550137,  0.42737988,  0.33498815,  0.23924933,\n",
              "        0.14112001,  0.04158066, -0.05837414, -0.15774569, -0.2555411 ,\n",
              "       -0.35078323, -0.44252044, -0.52983614, -0.61185789, -0.68776616,\n",
              "       -0.7568025 , -0.81827711, -0.87157577, -0.91616594, -0.95160207,\n",
              "       -0.97753012, -0.993691  , -0.99992326, -0.99616461, -0.98245261,\n",
              "       -0.95892427, -0.92581468, -0.88345466, -0.83226744, -0.77276449,\n",
              "       -0.70554033, -0.63126664, -0.55068554, -0.46460218, -0.37387666,\n",
              "       -0.2794155 , -0.1821625 , -0.0830894 ])"
            ]
          },
          "metadata": {},
          "execution_count": 56
        }
      ]
    },
    {
      "cell_type": "code",
      "source": [
        "import numpy as np\n",
        "A=np.arange(9).reshape(3,3)\n",
        "B=np.arange(11,11+9).reshape(3,3)\n",
        "\n",
        "x=np.arange(3)\n",
        "y=np.arange(3).reshape(3,1)\n",
        "z=np.arange(3).reshape(1,3)\n",
        "\n",
        "C1=np.dot(A,B)\n",
        "C2=np.matmul(A,B)\n",
        "C3=A@B\n"
      ],
      "metadata": {
        "id": "pHEyxQ1RClnY"
      },
      "execution_count": 58,
      "outputs": []
    },
    {
      "cell_type": "code",
      "source": [
        "import numpy as np\n",
        "x=np.array([9.1,8.2,2.3,3,3,7.6,5.2])\n",
        "np.amin(x)"
      ],
      "metadata": {
        "colab": {
          "base_uri": "https://localhost:8080/"
        },
        "id": "C-fKT7dNDYqa",
        "outputId": "6c26b5a9-43d1-4144-c2fe-2760b78ea260"
      },
      "execution_count": 59,
      "outputs": [
        {
          "output_type": "execute_result",
          "data": {
            "text/plain": [
              "2.3"
            ]
          },
          "metadata": {},
          "execution_count": 59
        }
      ]
    },
    {
      "cell_type": "code",
      "source": [
        "np.amax(x)"
      ],
      "metadata": {
        "colab": {
          "base_uri": "https://localhost:8080/"
        },
        "id": "E-ONsan9FCYH",
        "outputId": "b3a67519-ff33-407d-a215-50d91993ef26"
      },
      "execution_count": 60,
      "outputs": [
        {
          "output_type": "execute_result",
          "data": {
            "text/plain": [
              "9.1"
            ]
          },
          "metadata": {},
          "execution_count": 60
        }
      ]
    },
    {
      "cell_type": "code",
      "source": [
        "np.argmin(x)"
      ],
      "metadata": {
        "colab": {
          "base_uri": "https://localhost:8080/"
        },
        "id": "z6oiQUKOFG5x",
        "outputId": "ba326061-31af-40f1-e271-f6d82d6ebfab"
      },
      "execution_count": 61,
      "outputs": [
        {
          "output_type": "execute_result",
          "data": {
            "text/plain": [
              "2"
            ]
          },
          "metadata": {},
          "execution_count": 61
        }
      ]
    },
    {
      "cell_type": "code",
      "source": [
        "np.argmax(x)"
      ],
      "metadata": {
        "colab": {
          "base_uri": "https://localhost:8080/"
        },
        "id": "yBlWRSLlFIj0",
        "outputId": "556520dd-f284-41f1-dd20-5ce8ff1a40ee"
      },
      "execution_count": 62,
      "outputs": [
        {
          "output_type": "execute_result",
          "data": {
            "text/plain": [
              "0"
            ]
          },
          "metadata": {},
          "execution_count": 62
        }
      ]
    },
    {
      "cell_type": "code",
      "source": [
        "np.sort(x)"
      ],
      "metadata": {
        "colab": {
          "base_uri": "https://localhost:8080/"
        },
        "id": "wl7TN6DtFKsp",
        "outputId": "8792369b-c686-47ea-9f06-c11dd5f4b600"
      },
      "execution_count": 63,
      "outputs": [
        {
          "output_type": "execute_result",
          "data": {
            "text/plain": [
              "array([2.3, 3. , 3. , 5.2, 7.6, 8.2, 9.1])"
            ]
          },
          "metadata": {},
          "execution_count": 63
        }
      ]
    },
    {
      "cell_type": "code",
      "source": [
        "np.argsort(x)"
      ],
      "metadata": {
        "colab": {
          "base_uri": "https://localhost:8080/"
        },
        "id": "JYEK5EdgFMka",
        "outputId": "a44a8dbf-894f-44ff-a0b6-5dce6244e0a4"
      },
      "execution_count": 64,
      "outputs": [
        {
          "output_type": "execute_result",
          "data": {
            "text/plain": [
              "array([2, 3, 4, 6, 5, 1, 0])"
            ]
          },
          "metadata": {},
          "execution_count": 64
        }
      ]
    },
    {
      "cell_type": "code",
      "source": [
        "# 만약 두 번째로 큰 값의 위치를 구한다면 다음과 같다.\n",
        "imax2=np.argsort(x)[-2]"
      ],
      "metadata": {
        "id": "dZHEl6ZfFO5d"
      },
      "execution_count": 65,
      "outputs": []
    },
    {
      "cell_type": "code",
      "source": [
        ""
      ],
      "metadata": {
        "id": "CfEyWFfDFZ4m"
      },
      "execution_count": null,
      "outputs": []
    }
  ]
}